{
  "cells": [
    {
      "metadata": {
        "trusted": true
      },
      "cell_type": "code",
      "source": "import sympy as sp\nsp.init_printing()",
      "execution_count": 9,
      "outputs": []
    },
    {
      "metadata": {
        "trusted": true
      },
      "cell_type": "code",
      "source": "a,b,c = sp.symbols(\"a b c\")",
      "execution_count": 10,
      "outputs": []
    },
    {
      "metadata": {
        "trusted": true
      },
      "cell_type": "code",
      "source": "N=a*b*100 - (a**2) * (b**2)\ndisplay(_)\nD=2*(a+b)\ndisplay(_)\nV = N / D\ndisplay(_)\nV",
      "execution_count": 12,
      "outputs": [
        {
          "output_type": "display_data",
          "data": {
            "image/png": "[encoded data removed]",
            "text/latex": "$$\\frac{- a^{2} b^{2} + 100 a b}{2 a + 2 b}$$",
            "text/plain": "   2  2          \n- a ⋅b  + 100⋅a⋅b\n─────────────────\n    2⋅a + 2⋅b    "
          },
          "metadata": {}
        },
        {
          "output_type": "display_data",
          "data": {
            "image/png": "[encoded data removed]",
            "text/latex": "$$\\frac{- a^{2} b^{2} + 100 a b}{2 a + 2 b}$$",
            "text/plain": "   2  2          \n- a ⋅b  + 100⋅a⋅b\n─────────────────\n    2⋅a + 2⋅b    "
          },
          "metadata": {}
        },
        {
          "output_type": "display_data",
          "data": {
            "image/png": "[encoded data removed]",
            "text/latex": "$$\\frac{- a^{2} b^{2} + 100 a b}{2 a + 2 b}$$",
            "text/plain": "   2  2          \n- a ⋅b  + 100⋅a⋅b\n─────────────────\n    2⋅a + 2⋅b    "
          },
          "metadata": {}
        },
        {
          "output_type": "execute_result",
          "execution_count": 12,
          "data": {
            "image/png": "[encoded data removed]",
            "text/latex": "$$\\frac{- a^{2} b^{2} + 100 a b}{2 a + 2 b}$$",
            "text/plain": "   2  2          \n- a ⋅b  + 100⋅a⋅b\n─────────────────\n    2⋅a + 2⋅b    "
          },
          "metadata": {}
        }
      ]
    },
    {
      "metadata": {
        "trusted": true
      },
      "cell_type": "code",
      "source": "import numpy as np\n\ndef sigmoid(x):\n    return 1/(1 + np.exp(-x))",
      "execution_count": 13,
      "outputs": []
    },
    {
      "metadata": {
        "trusted": true
      },
      "cell_type": "code",
      "source": "X = np.array([1,0.6,-0.4])\n\nw = np.array([-0.2,0.2,0.8])\n\nx = w[0]*X[0] + w[1]*X[1] + w[2]*X[2]\nprint('x =',x)\ny = sigmoid(x)\nprint('y =',y)\n",
      "execution_count": 5,
      "outputs": [
        {
          "output_type": "stream",
          "text": "x = -0.4000000000000001\ny = 0.401312339887548\n",
          "name": "stdout"
        }
      ]
    },
    {
      "metadata": {
        "trusted": true
      },
      "cell_type": "code",
      "source": "import numpy as np\n\ndef step_func(x):\n    return 1*(x>0 or x ==0)\n\n\nX = np.array([1,1,1])\nw = np.array([-1.2,0.7,0.9])\n\nx = np.dot(X,w)\ny = step_func(x)\nprint(y)\n",
      "execution_count": 6,
      "outputs": [
        {
          "output_type": "stream",
          "text": "1\n",
          "name": "stdout"
        }
      ]
    },
    {
      "metadata": {
        "trusted": true
      },
      "cell_type": "code",
      "source": "import matplotlib.pyplot as plt\nimport numpy as np\n%matplotlib inline\n%config InlineBackend.figure_format = 'retina'\n\nfrom IPython.display import Image, display\n",
      "execution_count": 7,
      "outputs": []
    },
    {
      "metadata": {
        "trusted": true
      },
      "cell_type": "code",
      "source": "Image('./multilayer_nn_1.jpg')",
      "execution_count": 7,
      "outputs": [
        {
          "output_type": "error",
          "ename": "NameError",
          "evalue": "name 'Image' is not defined",
          "traceback": [
            "\u001b[0;31m---------------------------------------------------------------------------\u001b[0m",
            "\u001b[0;31mNameError\u001b[0m                                 Traceback (most recent call last)",
            "\u001b[0;32m<ipython-input-7-542f00386f11>\u001b[0m in \u001b[0;36m<module>\u001b[0;34m()\u001b[0m\n\u001b[0;32m----> 1\u001b[0;31m \u001b[0mImage\u001b[0m\u001b[0;34m(\u001b[0m\u001b[0;34m'./multilayer_nn_1.jpg'\u001b[0m\u001b[0;34m)\u001b[0m\u001b[0;34m\u001b[0m\u001b[0m\n\u001b[0m",
            "\u001b[0;31mNameError\u001b[0m: name 'Image' is not defined"
          ]
        }
      ]
    },
    {
      "metadata": {
        "trusted": true
      },
      "cell_type": "code",
      "source": "",
      "execution_count": null,
      "outputs": []
    },
    {
      "metadata": {
        "trusted": true
      },
      "cell_type": "code",
      "source": "",
      "execution_count": null,
      "outputs": []
    },
    {
      "metadata": {
        "trusted": true
      },
      "cell_type": "code",
      "source": "",
      "execution_count": null,
      "outputs": []
    }
  ],
  "metadata": {
    "kernelspec": {
      "name": "python3",
      "display_name": "Python 3",
      "language": "python"
    },
    "language_info": {
      "mimetype": "text/x-python",
      "nbconvert_exporter": "python",
      "name": "python",
      "pygments_lexer": "ipython3",
      "version": "3.5.4",
      "file_extension": ".py",
      "codemirror_mode": {
        "version": 3,
        "name": "ipython"
      }
    }
  },
  "nbformat": 4,
  "nbformat_minor": 2
}